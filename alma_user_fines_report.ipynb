{
 "cells": [
  {
   "cell_type": "code",
   "execution_count": 10,
   "metadata": {},
   "outputs": [],
   "source": [
    "import requests\n",
    "import pandas as pd\n",
    "\n",
    "base_url = \"https://api-na.hosted.exlibrisgroup.com/almaws/v1\"\n",
    "API_KEY = \"l7xx2af7939c63424511946e0fcdc35fe22a\"  \n",
    "\n",
    "def get_users():\n",
    "    url = f\"{base_url}/users?limit=100&apikey={API_KEY}\"\n",
    "    headers = {\"Accept\": \"application/json\"}  \n",
    "    response = requests.get(url, headers=headers)\n",
    "    data = response.json()  \n",
    "    users = data.get(\"user\", [])\n",
    "    return users\n",
    "\n",
    "def get_user_loans(user_id):\n",
    "    url = f\"{base_url}/users/{user_id}/loans?apikey={API_KEY}\"\n",
    "    headers = {\"Accept\": \"application/json\"}  \n",
    "    response = requests.get(url, headers=headers)\n",
    "    data = response.json()\n",
    "    return data.get(\"item_loan\", [])\n",
    "\n",
    "def get_user_fines(user_id):\n",
    "    url = f\"{base_url}/users/{user_id}/fees?apikey={API_KEY}\"\n",
    "    headers = {\"Accept\": \"application/json\"}    \n",
    "    response = requests.get(url, headers=headers)\n",
    "    data = response.json()\n",
    "    total_fine = sum(float(fee.get(\"balance\", 0)) for fee in data.get(\"fee\", []))\n",
    "    return total_fine\n"
   ]
  },
  {
   "cell_type": "code",
   "execution_count": 11,
   "metadata": {},
   "outputs": [],
   "source": [
    "def process_data():\n",
    "    users = get_users()\n",
    "    \n",
    "    for user in users:\n",
    "        user[\"loans\"] = get_user_loans(user[\"primary_id\"])\n",
    "        user[\"total_fines\"] = get_user_fines(user[\"primary_id\"])\n",
    "\n",
    "\n",
    "    users.sort(key=lambda x: x[\"total_fines\"], reverse=True)\n",
    "    \n",
    "    return users\n"
   ]
  },
  {
   "cell_type": "code",
   "execution_count": null,
   "metadata": {},
   "outputs": [],
   "source": [
    "def generate_html(users):\n",
    "    html_content = \"\"\"\n",
    "    <!DOCTYPE html>\n",
    "    <html>\n",
    "    <head>\n",
    "        <title>Library Users with Overdue Loans & Fines</title>\n",
    "        <style>\n",
    "            table { width: 100%%; border-collapse: collapse; }\n",
    "            th, td { border: 1px solid black; padding: 8px; text-align: left; }\n",
    "            th { background-color: #f2f2f2; }\n",
    "        </style>\n",
    "    </head>\n",
    "    <body>\n",
    "        <h2>Library Users with Overdue Loans & Fines</h2>\n",
    "        <table>\n",
    "            <tr>\n",
    "                <th>User ID</th>\n",
    "                <th>Name</th>\n",
    "                <th>Total Fines ($)</th>\n",
    "                <th>Loans</th>\n",
    "            </tr>\n",
    "    \"\"\"\n",
    "\n",
    "    for user in users:\n",
    "        loan_titles = \", \".join([loan.get(\"title\", \"Unknown\") for loan in user[\"loans\"]])\n",
    "        html_content += f\"\"\"\n",
    "            <tr>\n",
    "                <td>{user[\"primary_id\"]}</td>\n",
    "                <td>{user[\"first_name\"]} {user[\"last_name\"]}</td>\n",
    "                <td>{user[\"total_fines\"]:.2f}</td>\n",
    "                <td>{loan_titles}</td>\n",
    "            </tr>\n",
    "        \"\"\"\n",
    "\n",
    "    html_content += \"\"\"\n",
    "        </table>\n",
    "    </body>\n",
    "    </html>\n",
    "    \"\"\"\n",
    "\n",
    "    with open(\"library_report.html\", \"w\", encoding=\"utf-8\") as f:\n",
    "        f.write(html_content)\n"
   ]
  },
  {
   "cell_type": "code",
   "execution_count": 16,
   "metadata": {},
   "outputs": [
    {
     "name": "stdout",
     "output_type": "stream",
     "text": [
      "HTML file generated: library_report.html\n"
     ]
    }
   ],
   "source": [
    "users = process_data()\n",
    "generate_html(users)\n"
   ]
  }
 ],
 "metadata": {
  "kernelspec": {
   "display_name": "Python 3",
   "language": "python",
   "name": "python3"
  },
  "language_info": {
   "codemirror_mode": {
    "name": "ipython",
    "version": 3
   },
   "file_extension": ".py",
   "mimetype": "text/x-python",
   "name": "python",
   "nbconvert_exporter": "python",
   "pygments_lexer": "ipython3",
   "version": "3.10.11"
  }
 },
 "nbformat": 4,
 "nbformat_minor": 2
}
